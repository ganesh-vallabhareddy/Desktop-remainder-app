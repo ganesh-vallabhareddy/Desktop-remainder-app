{
 "cells": [
  {
   "cell_type": "code",
   "execution_count": 2,
   "id": "4300270f",
   "metadata": {},
   "outputs": [
    {
     "name": "stdout",
     "output_type": "stream",
     "text": [
      "Requirement already satisfied: plyer in c:\\users\\valla\\anaconda3\\lib\\site-packages (2.0.0)\n",
      "Note: you may need to restart the kernel to use updated packages.\n"
     ]
    }
   ],
   "source": [
    "pip install plyer"
   ]
  },
  {
   "cell_type": "code",
   "execution_count": 34,
   "id": "2f7c2139",
   "metadata": {},
   "outputs": [],
   "source": [
    "from tkinter import *\n",
    "from PIL import Image, ImageTk\n",
    "from tkinter import messagebox\n",
    "from plyer import notification\n",
    "import time\n",
    "\n",
    "t=Tk()\n",
    "t.title(\"Notifier-app\")\n",
    "t.geometry(\"500x300\")\n",
    "t.title(\"Notication ALert\")\n",
    "\n",
    "\n",
    "#get details\n",
    "def get_details():\n",
    "    get_title=title.get()\n",
    "    get_msg=msg.get()\n",
    "    get_time=time1.get()\n",
    "    \n",
    "    if get_title==\"\" or get_msg==\"\" or get_time==\"\":\n",
    "        messagebox.showerror(\"Alert\", \" All fields are required!\")\n",
    "    else:\n",
    "        int_time=int(float(get_time))\n",
    "        min_to_sec=int_time*60 \n",
    "        messagebox.showinfo(\"notifier set\",\"set notification\")\n",
    "        t.destroy()\n",
    "        time.sleep(min_to_sec)\n",
    "        \n",
    "        notification.notify(title=get_title, \n",
    "                            message=get_msg,\n",
    "                            app_name=\"Notifier\", \n",
    "                            timeout=10)\n",
    "        \n",
    "\n",
    "# Label1 - Title\n",
    "t_label=Label(t,text=\"Title to notify\",font=(\"poppins\",10))\n",
    "t_label.place(x=12,y=70)\n",
    "\n",
    "#entry1 - Title\n",
    "title=Entry(t,width=\"25\",font=(\"poppins\",13))\n",
    "title.place(x=123,y=70)\n",
    "\n",
    "#label2 - Message\n",
    "m_label=Label(t,text=\"Display Message\",font=(\"poppins\",10))\n",
    "m_label.place(x=12,y=120)\n",
    "\n",
    "#entry2 - Message\n",
    "msg=Entry(t,width=\"40\",font=(\"poppins\",13))\n",
    "msg.place(x=123,y=120,height=30)\n",
    "\n",
    "#label3 - Time\n",
    "time_label=Label(t,text=\"Set Time\",font=(\"poppins\",10))\n",
    "time_label.place(x=12,y=175)\n",
    "\n",
    "#entry3 - Time\n",
    "time1=Entry(t,width=\"5\",font=(\"poppins\",13))\n",
    "time1.place(x=123,y=175)\n",
    "\n",
    "#label4 - min\n",
    "time_min_label=Label(t,text=\"min\",font=(\"poppins\",10))\n",
    "time_min_label.place(x=175,y=180)\n",
    "\n",
    "# Button\n",
    "but= Button(t,text=\"SET NOTIFICATION\",font=(\"poppins\",10,\"bold\"),fg=\"#ffffff\",bg=\"#528DFF\",width=20,\n",
    "           relief=\"raised\",command=get_details)\n",
    "but.place(x=170,y=230)\n",
    "\n",
    "t.resizable(0,0)\n",
    "t.mainloop()\n",
    "\n",
    "\n",
    "\n",
    "\n",
    "\n",
    "\n",
    "\n"
   ]
  },
  {
   "cell_type": "code",
   "execution_count": null,
   "id": "ca9ef635",
   "metadata": {},
   "outputs": [],
   "source": []
  },
  {
   "cell_type": "code",
   "execution_count": null,
   "id": "d59842f3",
   "metadata": {},
   "outputs": [],
   "source": []
  }
 ],
 "metadata": {
  "kernelspec": {
   "display_name": "Python 3 (ipykernel)",
   "language": "python",
   "name": "python3"
  },
  "language_info": {
   "codemirror_mode": {
    "name": "ipython",
    "version": 3
   },
   "file_extension": ".py",
   "mimetype": "text/x-python",
   "name": "python",
   "nbconvert_exporter": "python",
   "pygments_lexer": "ipython3",
   "version": "3.9.12"
  }
 },
 "nbformat": 4,
 "nbformat_minor": 5
}
